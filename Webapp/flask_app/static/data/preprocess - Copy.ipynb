{
 "cells": [
  {
   "cell_type": "code",
   "execution_count": 61,
   "metadata": {},
   "outputs": [],
   "source": [
    "import pandas as pd\n",
    "lga = pd.read_csv('./vic_dhhs_rent_2br_flat_lga_2017.csv')\n",
    "cleaned_col = map(str.strip, lga.columns)\n",
    "lga.columns = cleaned_col\n",
    "count_cols = [col for col in lga.columns if 'count' in col]\n",
    "lga.drop(count_cols,axis = 1,inplace = True)\n",
    "col = lga.columns.to_list()\n",
    "columns = ['lga_code16', 'lga_name16']\n",
    "col = [x for x in col if \"dec\" in x]\n",
    "columns=columns+col\n",
    "columns.sort()\n",
    "df = lga[columns]\n",
    "df[df['lga_code16']==24600].to_csv('2nhk.csv', index=False)\n",
    "lga = pd.read_csv('./vic_dhhs_rent_1br_flat_lga_2017.csv')\n",
    "cleaned_col = map(str.strip, lga.columns)\n",
    "lga.columns = cleaned_col\n",
    "count_cols = [col for col in lga.columns if 'count' in col]\n",
    "lga.drop(count_cols,axis = 1,inplace = True)\n",
    "col = lga.columns.to_list()\n",
    "columns = ['lga_code16', 'lga_name16']\n",
    "col = [x for x in col if \"dec\" in x]\n",
    "columns=columns+col\n",
    "columns.sort()\n",
    "df = lga[columns]\n",
    "df[df['lga_code16']==24600].to_csv('1nhk.csv', index=False)\n",
    "lga = pd.read_csv('./vic_dhhs_rent_3br_flat_lga_2017.csv')\n",
    "cleaned_col = map(str.strip, lga.columns)\n",
    "lga.columns = cleaned_col\n",
    "count_cols = [col for col in lga.columns if 'count' in col]\n",
    "lga.drop(count_cols,axis = 1,inplace = True)\n",
    "col = lga.columns.to_list()\n",
    "columns = ['lga_code16', 'lga_name16']\n",
    "col = [x for x in col if \"dec\" in x]\n",
    "columns=columns+col\n",
    "columns.sort()\n",
    "df = lga[columns]\n",
    "df[df['lga_code16']==24600].to_csv('3nhk.csv', index=False)\n",
    "lga = pd.read_csv('./vic_dhhs_rent_4br_house_lga_2017.csv')\n",
    "cleaned_col = map(str.strip, lga.columns)\n",
    "lga.columns = cleaned_col\n",
    "count_cols = [col for col in lga.columns if 'count' in col]\n",
    "lga.drop(count_cols,axis = 1,inplace = True)\n",
    "col = lga.columns.to_list()\n",
    "columns = ['lga_code16', 'lga_name16']\n",
    "col = [x for x in col if \"dec\" in x]\n",
    "columns=columns+col\n",
    "columns.sort()\n",
    "df = lga[columns]\n",
    "df[df['lga_code16']==24600].to_csv('4nhk.csv', index=False)"
   ]
  },
  {
   "cell_type": "code",
   "execution_count": 39,
   "metadata": {},
   "outputs": [],
   "source": [
    "import pandas as pd\n",
    "df = pd.read_csv('./Pedestrian_Counting_System_-_Monthly__counts_per_hour_.csv')\n",
    "df[(df.Year==2020) & (df.Time==1) & (df.Month=='March') &(df.Sensor_Name==\"Town Hall (West)\")]\n",
    "df1=df[(df.Year==2020)].groupby(['Day','Sensor_ID']).mean()\n",
    "df1.drop(['ID','Year','Mdate','Time'],axis=1,inplace=True)\n",
    "df1.to_csv('sensor_data.csv')\n",
    "df1 = pd.read_csv(\"./sensor_data.csv\")\n",
    "df2 = pd.read_csv('./Pedestrian_Counting_System_-_Sensor_Locations.csv')\n",
    "df2.drop(['sensor_name','installation_date','status','note','direction_1','direction_2'],axis=1,inplace=True)\n",
    "col = df2.columns.to_list()\n",
    "col[0]='Sensor_ID'\n",
    "df2.columns = col\n",
    "df3 = df1.merge(df2, on = \"Sensor_ID\")\n",
    "df3.Hourly_Counts = round(df3.Hourly_Counts)\n",
    "df3.to_csv('sensor_data.csv',index=False)"
   ]
  }
 ],
 "metadata": {
  "interpreter": {
   "hash": "7f2ba3a4adb8dc2f58a093e07e827b1dd869517e85d06aea18dfe1424ec9c6a5"
  },
  "kernelspec": {
   "display_name": "Python 3.8.8 64-bit ('base': conda)",
   "name": "python3"
  },
  "language_info": {
   "codemirror_mode": {
    "name": "ipython",
    "version": 3
   },
   "file_extension": ".py",
   "mimetype": "text/x-python",
   "name": "python",
   "nbconvert_exporter": "python",
   "pygments_lexer": "ipython3",
   "version": "3.8.8"
  },
  "orig_nbformat": 4
 },
 "nbformat": 4,
 "nbformat_minor": 2
}
